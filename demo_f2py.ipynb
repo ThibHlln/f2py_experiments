{
 "cells": [
  {
   "cell_type": "markdown",
   "metadata": {},
   "source": [
    "# Demo with `numpy.f2py`\n",
    "\n",
    "> The purpose of the F2PY *–Fortran to Python interface generator–* is to provide a connection between Python and Fortran languages.\n",
    "> https://numpy.org/doc/stable/f2py/\n",
    "\n",
    "It comes with a CLI:\n",
    "```bash\n",
    "python -m numpy.f2py\n",
    "```\n",
    "\n",
    "and with an API:\n",
    "```python\n",
    "import numpy.f2py\n",
    "```\n",
    "\n",
    "The focus is on the use of the CLI here as the API is \"not mature\"\n",
    "according the numpy's documentation.\n",
    "\n",
    "Requirements for the examples below to work are:\n",
    "- `numpy`\n",
    "- a FORTRAN compiler (e.g. gfortran or ifort)"
   ]
  },
  {
   "cell_type": "markdown",
   "metadata": {},
   "source": [
    "## A first example: calling simple FORTRAN subroutines\n",
    "\n",
    "The FORTRAN source code for this example is *a_simple_call/my_file.f90*."
   ]
  },
  {
   "cell_type": "markdown",
   "metadata": {},
   "source": [
    "### Building the wrapper\n",
    "\n",
    "There are 3 ways of building a wrapper around FORTRAN code:\n",
    "1. compiling directly the pristine source code with F2PY and **let F2PY infer the interface**\n",
    "\n",
    "2. generating and tweaking a **signature file** to teach F2PY about the code interface before compilation (if you cannot modify the source code)\n",
    "\n",
    "3. adding **special fortran comments** in source to teach F2PY about the code interface before compilation (if you can modify the source code)"
   ]
  },
  {
   "cell_type": "markdown",
   "metadata": {},
   "source": [
    "#### 1. Quick and easy\n",
    "\n",
    "Directly compile the source code: `python -m numpy.f2py -c <fortran_code> -m <module_name>`"
   ]
  },
  {
   "cell_type": "code",
   "execution_count": 1,
   "metadata": {},
   "outputs": [
    {
     "name": "stdout",
     "output_type": "stream",
     "text": [
      "\u001B[31mCould not locate executable gfortran\u001B[0m\n",
      "\u001B[31mCould not locate executable f95\u001B[0m\n"
     ]
    }
   ],
   "source": [
    "! cd a_simple_call && \\\n",
    "python -m numpy.f2py -c my_file.f90 -m my_package \\\n",
    "--quiet --f90exec=/data/conda/hj-38-nompi/bin/x86_64-conda-linux-gnu-gfortran"
   ]
  },
  {
   "cell_type": "code",
   "execution_count": 2,
   "metadata": {},
   "outputs": [
    {
     "name": "stdout",
     "output_type": "stream",
     "text": [
      "my_file.f90  my_package.cpython-38-x86_64-linux-gnu.so\n"
     ]
    }
   ],
   "source": [
    "! ls a_simple_call"
   ]
  },
  {
   "cell_type": "code",
   "execution_count": 3,
   "metadata": {},
   "outputs": [],
   "source": [
    "! rm a_simple_call/my_package*.so"
   ]
  },
  {
   "cell_type": "markdown",
   "metadata": {},
   "source": [
    "#### 2. With an intermediate signature file\n",
    "\n",
    "Generate a signature file: `numpy.f2py -m <module_name> -h <signature_file> <source_files>`"
   ]
  },
  {
   "cell_type": "code",
   "execution_count": 4,
   "metadata": {},
   "outputs": [],
   "source": [
    "! cd a_simple_call && \\\n",
    "python -m numpy.f2py -m my_package -h my_signature.pyf my_file.f90 \\\n",
    "--quiet --overwrite-signature"
   ]
  },
  {
   "cell_type": "code",
   "execution_count": 5,
   "metadata": {},
   "outputs": [
    {
     "name": "stdout",
     "output_type": "stream",
     "text": [
      "my_file.f90  my_signature.pyf\n"
     ]
    }
   ],
   "source": [
    "! ls a_simple_call"
   ]
  },
  {
   "cell_type": "markdown",
   "metadata": {},
   "source": [
    "Give the signature file when compiling: `numpy.f2py -c <signature_file> <source_files>`"
   ]
  },
  {
   "cell_type": "code",
   "execution_count": 6,
   "metadata": {},
   "outputs": [
    {
     "name": "stdout",
     "output_type": "stream",
     "text": [
      "\u001B[31mCould not locate executable gfortran\u001B[0m\n",
      "\u001B[31mCould not locate executable f95\u001B[0m\n"
     ]
    }
   ],
   "source": [
    "! cd a_simple_call && \\\n",
    "python -m numpy.f2py -c my_signature.pyf my_file.f90 \\\n",
    "--quiet --f90exec=/data/conda/hj-38-nompi/bin/x86_64-conda-linux-gnu-gfortran"
   ]
  },
  {
   "cell_type": "markdown",
   "metadata": {},
   "source": [
    "#### 3. Make source code more explicit "
   ]
  },
  {
   "cell_type": "markdown",
   "metadata": {},
   "source": [
    "By e.g. using FORTRAN `intent`, if not already, and, if not enough, using F2PY special comments `!f2py ...`"
   ]
  },
  {
   "cell_type": "markdown",
   "metadata": {},
   "source": [
    "### Using the package"
   ]
  },
  {
   "cell_type": "code",
   "execution_count": 7,
   "metadata": {},
   "outputs": [],
   "source": [
    "import numpy"
   ]
  },
  {
   "cell_type": "code",
   "execution_count": 8,
   "metadata": {},
   "outputs": [],
   "source": [
    "import a_simple_call.my_package as my_package"
   ]
  },
  {
   "cell_type": "markdown",
   "metadata": {},
   "source": [
    "F2PY generates some basic documentation for the package and its functions."
   ]
  },
  {
   "cell_type": "code",
   "execution_count": 9,
   "metadata": {},
   "outputs": [
    {
     "name": "stdout",
     "output_type": "stream",
     "text": [
      "This module 'my_package' is auto-generated with f2py (version:2).\n",
      "Functions:\n",
      "  the_result = add_scalar(an_array,a_scalar,n=len(an_array))\n",
      "  the_result = add_array(array_one,array_two,n=len(array_one))\n",
      ".\n"
     ]
    }
   ],
   "source": [
    "print(my_package.__doc__)"
   ]
  },
  {
   "cell_type": "code",
   "execution_count": 10,
   "metadata": {},
   "outputs": [
    {
     "name": "stdout",
     "output_type": "stream",
     "text": [
      "the_result = add_scalar(an_array,a_scalar,[n])\n",
      "\n",
      "Wrapper for ``add_scalar``.\n",
      "\n",
      "Parameters\n",
      "----------\n",
      "an_array : input rank-1 array('f') with bounds (n)\n",
      "a_scalar : input float\n",
      "\n",
      "Other Parameters\n",
      "----------------\n",
      "n : input int, optional\n",
      "    Default: len(an_array)\n",
      "\n",
      "Returns\n",
      "-------\n",
      "the_result : rank-1 array('f') with bounds (n)\n",
      "\n"
     ]
    }
   ],
   "source": [
    "print(my_package.add_scalar.__doc__)"
   ]
  },
  {
   "cell_type": "code",
   "execution_count": 11,
   "metadata": {},
   "outputs": [
    {
     "data": {
      "text/plain": [
       "array([3., 3., 3., 3.], dtype=float32)"
      ]
     },
     "execution_count": 11,
     "metadata": {},
     "output_type": "execute_result"
    }
   ],
   "source": [
    "my_package.add_scalar(numpy.zeros((4,)), 3.)"
   ]
  },
  {
   "cell_type": "markdown",
   "source": [
    "Note, F2PY does the casting for you if it can, e.g. converting default\n",
    "numpy array of `dtype=numpy.float64` to `dtype=numpy.float32` (since simple\n",
    "precision is required in the Fortran code)."
   ],
   "metadata": {
    "collapsed": false
   }
  },
  {
   "cell_type": "code",
   "execution_count": 12,
   "metadata": {},
   "outputs": [
    {
     "data": {
      "text/plain": [
       "array([4., 4., 4., 4.], dtype=float32)"
      ]
     },
     "execution_count": 12,
     "metadata": {},
     "output_type": "execute_result"
    }
   ],
   "source": [
    "my_package.add_array(1 * numpy.ones((4,)), 3 * numpy.ones((4,)))"
   ]
  },
  {
   "cell_type": "markdown",
   "source": [
    "F2PY does the slicing for you if it can, i.e. if `n < len(an_array)`."
   ],
   "metadata": {
    "collapsed": false
   }
  },
  {
   "cell_type": "code",
   "execution_count": 13,
   "metadata": {},
   "outputs": [
    {
     "data": {
      "text/plain": [
       "array([3., 3., 3.], dtype=float32)"
      ]
     },
     "execution_count": 13,
     "metadata": {},
     "output_type": "execute_result"
    }
   ],
   "source": [
    "my_package.add_scalar(numpy.zeros((4,)), 3., n=3)"
   ]
  },
  {
   "cell_type": "code",
   "execution_count": 14,
   "metadata": {},
   "outputs": [
    {
     "ename": "error",
     "evalue": "(len(an_array)>=n) failed for 1st keyword n: add_scalar:n=5",
     "output_type": "error",
     "traceback": [
      "\u001B[0;31m---------------------------------------------------------------------------\u001B[0m",
      "\u001B[0;31merror\u001B[0m                                     Traceback (most recent call last)",
      "\u001B[0;32m<ipython-input-14-7ad2fc532bd5>\u001B[0m in \u001B[0;36m<module>\u001B[0;34m\u001B[0m\n\u001B[0;32m----> 1\u001B[0;31m \u001B[0mmy_package\u001B[0m\u001B[0;34m.\u001B[0m\u001B[0madd_scalar\u001B[0m\u001B[0;34m(\u001B[0m\u001B[0mnumpy\u001B[0m\u001B[0;34m.\u001B[0m\u001B[0mzeros\u001B[0m\u001B[0;34m(\u001B[0m\u001B[0;34m(\u001B[0m\u001B[0;36m4\u001B[0m\u001B[0;34m,\u001B[0m\u001B[0;34m)\u001B[0m\u001B[0;34m)\u001B[0m\u001B[0;34m,\u001B[0m \u001B[0;36m3.\u001B[0m\u001B[0;34m,\u001B[0m \u001B[0mn\u001B[0m\u001B[0;34m=\u001B[0m\u001B[0;36m5\u001B[0m\u001B[0;34m)\u001B[0m\u001B[0;34m\u001B[0m\u001B[0;34m\u001B[0m\u001B[0m\n\u001B[0m",
      "\u001B[0;31merror\u001B[0m: (len(an_array)>=n) failed for 1st keyword n: add_scalar:n=5"
     ]
    }
   ],
   "source": [
    "my_package.add_scalar(numpy.zeros((4,)), 3., n=5)"
   ]
  },
  {
   "cell_type": "markdown",
   "metadata": {},
   "source": [
    "## A second example: modifying an array inplace\n",
    "\n",
    "The FORTRAN source code for this example is *intent_inout/my_file.f90*."
   ]
  },
  {
   "cell_type": "code",
   "execution_count": 15,
   "metadata": {},
   "outputs": [
    {
     "name": "stdout",
     "output_type": "stream",
     "text": [
      "\u001B[31mCould not locate executable gfortran\u001B[0m\n",
      "\u001B[31mCould not locate executable f95\u001B[0m\n"
     ]
    }
   ],
   "source": [
    "! cd intent_inout && \\\n",
    "python -m numpy.f2py -c my_file.f90 -m my_package \\\n",
    "--quiet --f90exec=/data/conda/hj-38-nompi/bin/x86_64-conda-linux-gnu-gfortran"
   ]
  },
  {
   "cell_type": "code",
   "execution_count": 16,
   "metadata": {},
   "outputs": [],
   "source": [
    "import intent_inout.my_package as my_package"
   ]
  },
  {
   "cell_type": "markdown",
   "metadata": {},
   "source": [
    "### Importance of the data type"
   ]
  },
  {
   "cell_type": "code",
   "execution_count": 17,
   "metadata": {},
   "outputs": [
    {
     "ename": "ValueError",
     "evalue": "failed in converting 1st argument `an_array' of my_package.add_scalar to C/Fortran array",
     "output_type": "error",
     "traceback": [
      "\u001B[0;31m---------------------------------------------------------------------------\u001B[0m",
      "\u001B[0;31mValueError\u001B[0m                                Traceback (most recent call last)",
      "\u001B[0;31mValueError\u001B[0m: failed to initialize intent(inout) array -- expected elsize=4 but got 8",
      "\nThe above exception was the direct cause of the following exception:\n",
      "\u001B[0;31mValueError\u001B[0m                                Traceback (most recent call last)",
      "\u001B[0;32m<ipython-input-17-6faa7027a3e9>\u001B[0m in \u001B[0;36m<module>\u001B[0;34m\u001B[0m\n\u001B[0;32m----> 1\u001B[0;31m \u001B[0mmy_package\u001B[0m\u001B[0;34m.\u001B[0m\u001B[0madd_scalar\u001B[0m\u001B[0;34m(\u001B[0m\u001B[0mnumpy\u001B[0m\u001B[0;34m.\u001B[0m\u001B[0mzeros\u001B[0m\u001B[0;34m(\u001B[0m\u001B[0;34m(\u001B[0m\u001B[0;36m4\u001B[0m\u001B[0;34m,\u001B[0m\u001B[0;34m)\u001B[0m\u001B[0;34m)\u001B[0m\u001B[0;34m,\u001B[0m \u001B[0;36m3.\u001B[0m\u001B[0;34m)\u001B[0m\u001B[0;34m\u001B[0m\u001B[0;34m\u001B[0m\u001B[0m\n\u001B[0m",
      "\u001B[0;31mValueError\u001B[0m: failed in converting 1st argument `an_array' of my_package.add_scalar to C/Fortran array"
     ]
    }
   ],
   "source": [
    "my_package.add_scalar(numpy.zeros((4,)), 3.)"
   ]
  },
  {
   "cell_type": "markdown",
   "source": [
    "For variables with `intent(inout)` in the Fortran code, numpy prevents the\n",
    "casting by default."
   ],
   "metadata": {
    "collapsed": false
   }
  },
  {
   "cell_type": "code",
   "execution_count": 18,
   "metadata": {},
   "outputs": [
    {
     "name": "stdout",
     "output_type": "stream",
     "text": [
      "[3. 3. 3. 3.]\n"
     ]
    }
   ],
   "source": [
    "arr = numpy.zeros((4,), dtype=numpy.float32)\n",
    "my_package.add_scalar(arr, 3.)\n",
    "print(arr)"
   ]
  },
  {
   "cell_type": "markdown",
   "metadata": {},
   "source": [
    "### Importance of the C vs FORTRAN contiguity (i.e. row-major vs. column-major)"
   ]
  },
  {
   "cell_type": "code",
   "execution_count": 19,
   "metadata": {},
   "outputs": [
    {
     "ename": "ValueError",
     "evalue": "failed in converting 1st argument `an_array' of my_package.add_scalar to C/Fortran array",
     "output_type": "error",
     "traceback": [
      "\u001B[0;31m---------------------------------------------------------------------------\u001B[0m",
      "\u001B[0;31mValueError\u001B[0m                                Traceback (most recent call last)",
      "\u001B[0;31mValueError\u001B[0m: failed to initialize intent(inout) array -- input not fortran contiguous",
      "\nThe above exception was the direct cause of the following exception:\n",
      "\u001B[0;31mValueError\u001B[0m                                Traceback (most recent call last)",
      "\u001B[0;32m<ipython-input-19-fa9e24b94fdd>\u001B[0m in \u001B[0;36m<module>\u001B[0;34m\u001B[0m\n\u001B[1;32m      1\u001B[0m \u001B[0marr\u001B[0m \u001B[0;34m=\u001B[0m \u001B[0mnumpy\u001B[0m\u001B[0;34m.\u001B[0m\u001B[0mzeros\u001B[0m\u001B[0;34m(\u001B[0m\u001B[0;34m(\u001B[0m\u001B[0;36m3\u001B[0m\u001B[0;34m,\u001B[0m \u001B[0;36m2\u001B[0m\u001B[0;34m)\u001B[0m\u001B[0;34m,\u001B[0m \u001B[0mdtype\u001B[0m\u001B[0;34m=\u001B[0m\u001B[0mnumpy\u001B[0m\u001B[0;34m.\u001B[0m\u001B[0mfloat32\u001B[0m\u001B[0;34m)\u001B[0m\u001B[0;34m\u001B[0m\u001B[0;34m\u001B[0m\u001B[0m\n\u001B[0;32m----> 2\u001B[0;31m \u001B[0mmy_package\u001B[0m\u001B[0;34m.\u001B[0m\u001B[0madd_scalar\u001B[0m\u001B[0;34m(\u001B[0m\u001B[0marr\u001B[0m\u001B[0;34m,\u001B[0m \u001B[0;36m3.\u001B[0m\u001B[0;34m)\u001B[0m\u001B[0;34m\u001B[0m\u001B[0;34m\u001B[0m\u001B[0m\n\u001B[0m\u001B[1;32m      3\u001B[0m \u001B[0mprint\u001B[0m\u001B[0;34m(\u001B[0m\u001B[0marr\u001B[0m\u001B[0;34m)\u001B[0m\u001B[0;34m\u001B[0m\u001B[0;34m\u001B[0m\u001B[0m\n",
      "\u001B[0;31mValueError\u001B[0m: failed in converting 1st argument `an_array' of my_package.add_scalar to C/Fortran array"
     ]
    }
   ],
   "source": [
    "arr = numpy.zeros((3, 2), dtype=numpy.float32)\n",
    "my_package.add_scalar(arr, 3.)\n",
    "print(arr)"
   ]
  },
  {
   "cell_type": "markdown",
   "source": [
    "For variables with `intent(inout)` in the Fortran code, numpy prevents the\n",
    "change in array orientation by default."
   ],
   "metadata": {
    "collapsed": false
   }
  },
  {
   "cell_type": "code",
   "execution_count": 20,
   "metadata": {},
   "outputs": [
    {
     "name": "stdout",
     "output_type": "stream",
     "text": [
      "[[3. 3.]\n",
      " [3. 3.]\n",
      " [3. 3.]]\n"
     ]
    }
   ],
   "source": [
    "arr = numpy.zeros((3, 2), order='F', dtype=numpy.float32)\n",
    "my_package.add_scalar(arr, 3.)\n",
    "print(arr)"
   ]
  },
  {
   "cell_type": "markdown",
   "metadata": {},
   "source": [
    "### Alternatives"
   ]
  },
  {
   "cell_type": "markdown",
   "metadata": {},
   "source": [
    "If you know of these inconsistencies, but you don't to change neither\n",
    "the numpy array nor the Fortran array type/orientation, you can use\n",
    "*!f2py intent(in,out)* to return the Fortran array, rather than modify\n",
    "it inplace."
   ]
  },
  {
   "cell_type": "code",
   "execution_count": 21,
   "metadata": {},
   "outputs": [
    {
     "data": {
      "text/plain": [
       "  C_CONTIGUOUS : True\n",
       "  F_CONTIGUOUS : False\n",
       "  OWNDATA : True\n",
       "  WRITEABLE : True\n",
       "  ALIGNED : True\n",
       "  WRITEBACKIFCOPY : False\n",
       "  UPDATEIFCOPY : False"
      ]
     },
     "execution_count": 21,
     "metadata": {},
     "output_type": "execute_result"
    }
   ],
   "source": [
    "arr = numpy.zeros((3, 2))\n",
    "arr.flags"
   ]
  },
  {
   "cell_type": "code",
   "execution_count": 22,
   "metadata": {},
   "outputs": [
    {
     "data": {
      "text/plain": [
       "array([[3., 3.],\n",
       "       [3., 3.],\n",
       "       [3., 3.]], dtype=float32)"
      ]
     },
     "execution_count": 22,
     "metadata": {},
     "output_type": "execute_result"
    }
   ],
   "source": [
    "arr2 = my_package.add_scalar_in_out(arr, 3.)\n",
    "arr2"
   ]
  },
  {
   "cell_type": "code",
   "execution_count": 23,
   "metadata": {},
   "outputs": [
    {
     "data": {
      "text/plain": [
       "  C_CONTIGUOUS : False\n",
       "  F_CONTIGUOUS : True\n",
       "  OWNDATA : True\n",
       "  WRITEABLE : True\n",
       "  ALIGNED : True\n",
       "  WRITEBACKIFCOPY : False\n",
       "  UPDATEIFCOPY : False"
      ]
     },
     "execution_count": 23,
     "metadata": {},
     "output_type": "execute_result"
    }
   ],
   "source": [
    "arr2.flags"
   ]
  },
  {
   "cell_type": "markdown",
   "metadata": {},
   "source": [
    "Or you can ask F2PY to try harder and do the casting/array re-orientation\n",
    "anyway using *!f2py intent(inplace)*."
   ]
  },
  {
   "cell_type": "code",
   "execution_count": 24,
   "metadata": {},
   "outputs": [
    {
     "data": {
      "text/plain": [
       "(  C_CONTIGUOUS : True\n",
       "   F_CONTIGUOUS : False\n",
       "   OWNDATA : True\n",
       "   WRITEABLE : True\n",
       "   ALIGNED : True\n",
       "   WRITEBACKIFCOPY : False\n",
       "   UPDATEIFCOPY : False,\n",
       " '0x7fdb90035620')"
      ]
     },
     "execution_count": 24,
     "metadata": {},
     "output_type": "execute_result"
    }
   ],
   "source": [
    "arr = numpy.zeros((3, 2))\n",
    "arr.flags, hex(id(arr))"
   ]
  },
  {
   "cell_type": "code",
   "execution_count": 25,
   "metadata": {},
   "outputs": [
    {
     "data": {
      "text/plain": [
       "array([[3., 3.],\n",
       "       [3., 3.],\n",
       "       [3., 3.]], dtype=float32)"
      ]
     },
     "execution_count": 25,
     "metadata": {},
     "output_type": "execute_result"
    }
   ],
   "source": [
    "my_package.add_scalar_inplace(arr, 3.)\n",
    "arr"
   ]
  },
  {
   "cell_type": "code",
   "execution_count": 26,
   "metadata": {},
   "outputs": [
    {
     "data": {
      "text/plain": [
       "(  C_CONTIGUOUS : False\n",
       "   F_CONTIGUOUS : True\n",
       "   OWNDATA : True\n",
       "   WRITEABLE : True\n",
       "   ALIGNED : True\n",
       "   WRITEBACKIFCOPY : False\n",
       "   UPDATEIFCOPY : False,\n",
       " '0x7fdb90035620')"
      ]
     },
     "execution_count": 26,
     "metadata": {},
     "output_type": "execute_result"
    }
   ],
   "source": [
    "arr.flags, hex(id(arr))"
   ]
  },
  {
   "cell_type": "markdown",
   "metadata": {},
   "source": [
    "## A third example: allocatable arrays\n",
    "\n",
    "The FORTRAN source code for this example is *allocatable_array/my_file.f90*."
   ]
  },
  {
   "cell_type": "code",
   "execution_count": 27,
   "metadata": {},
   "outputs": [
    {
     "name": "stdout",
     "output_type": "stream",
     "text": [
      "\u001B[31mCould not locate executable gfortran\u001B[0m\n",
      "\u001B[31mCould not locate executable f95\u001B[0m\n"
     ]
    }
   ],
   "source": [
    "! cd allocatable_array && \\\n",
    "python -m numpy.f2py -c my_file.f90 -m my_package \\\n",
    "--quiet --f90exec=/data/conda/hj-38-nompi/bin/x86_64-conda-linux-gnu-gfortran"
   ]
  },
  {
   "cell_type": "code",
   "execution_count": 28,
   "metadata": {},
   "outputs": [],
   "source": [
    "import allocatable_array.my_package as my_package"
   ]
  },
  {
   "cell_type": "code",
   "execution_count": 29,
   "metadata": {},
   "outputs": [
    {
     "name": "stdout",
     "output_type": "stream",
     "text": [
      "None\n"
     ]
    }
   ],
   "source": [
    "print(my_package.my_module.my_array)"
   ]
  },
  {
   "cell_type": "markdown",
   "metadata": {},
   "source": [
    "### Running this would trigger a segmentation fault"
   ]
  },
  {
   "cell_type": "code",
   "execution_count": null,
   "metadata": {},
   "outputs": [],
   "source": [
    "my_package.my_module.add_scalar(3.)"
   ]
  },
  {
   "cell_type": "markdown",
   "metadata": {},
   "source": [
    "### Allocate memory first!"
   ]
  },
  {
   "cell_type": "code",
   "execution_count": 30,
   "metadata": {},
   "outputs": [],
   "source": [
    "my_package.my_module.allocate_memory(10)"
   ]
  },
  {
   "cell_type": "code",
   "execution_count": 31,
   "metadata": {},
   "outputs": [
    {
     "name": "stdout",
     "output_type": "stream",
     "text": [
      "[0. 0. 0. 0. 0. 0. 0. 0. 0. 0.]\n"
     ]
    }
   ],
   "source": [
    "print(my_package.my_module.my_array)"
   ]
  },
  {
   "cell_type": "code",
   "execution_count": 32,
   "metadata": {},
   "outputs": [],
   "source": [
    "my_package.my_module.add_scalar(3.)"
   ]
  },
  {
   "cell_type": "code",
   "execution_count": 33,
   "metadata": {},
   "outputs": [
    {
     "name": "stdout",
     "output_type": "stream",
     "text": [
      "[3. 3. 3. 3. 3. 3. 3. 3. 3. 3.]\n"
     ]
    }
   ],
   "source": [
    "print(my_package.my_module.my_array)"
   ]
  },
  {
   "cell_type": "markdown",
   "metadata": {},
   "source": [
    "### Allocate memory using Python"
   ]
  },
  {
   "cell_type": "code",
   "execution_count": 34,
   "metadata": {},
   "outputs": [],
   "source": [
    "import numpy\n",
    "arr = numpy.zeros((3,), order='F', dtype=numpy.float32)\n",
    "my_package.my_module.my_array = arr"
   ]
  },
  {
   "cell_type": "code",
   "execution_count": 35,
   "metadata": {},
   "outputs": [
    {
     "name": "stdout",
     "output_type": "stream",
     "text": [
      "[0. 0. 0.]\n"
     ]
    }
   ],
   "source": [
    "print(my_package.my_module.my_array)"
   ]
  },
  {
   "cell_type": "code",
   "execution_count": 36,
   "metadata": {},
   "outputs": [
    {
     "name": "stdout",
     "output_type": "stream",
     "text": [
      "[3. 3. 3.]\n"
     ]
    }
   ],
   "source": [
    "my_package.my_module.add_scalar(3.)\n",
    "print(my_package.my_module.my_array)"
   ]
  },
  {
   "cell_type": "markdown",
   "metadata": {},
   "source": [
    "The only drawback of the allocation in Python is that a new array is created in the process.\n",
    "\n",
    "Indeed, the array used for the memory allocation was not modified after adding the scalar."
   ]
  },
  {
   "cell_type": "code",
   "execution_count": 37,
   "metadata": {},
   "outputs": [
    {
     "data": {
      "text/plain": [
       "array([0., 0., 0.], dtype=float32)"
      ]
     },
     "execution_count": 37,
     "metadata": {},
     "output_type": "execute_result"
    }
   ],
   "source": [
    "arr"
   ]
  },
  {
   "cell_type": "markdown",
   "metadata": {},
   "source": [
    "### Funny finding?"
   ]
  },
  {
   "cell_type": "markdown",
   "metadata": {},
   "source": [
    "#### Behaviour of a view of a numpy array\n",
    "\n",
    "An array and a view of it are two different objects (different memory locations)."
   ]
  },
  {
   "cell_type": "code",
   "execution_count": 38,
   "metadata": {},
   "outputs": [
    {
     "name": "stdout",
     "output_type": "stream",
     "text": [
      "[0. 0. 0. 0. 0. 0. 0. 0. 0. 0.] 0x7fdb90035300\n"
     ]
    }
   ],
   "source": [
    "array1 = numpy.zeros((10,))\n",
    "print(array1, hex(id(array1)))"
   ]
  },
  {
   "cell_type": "code",
   "execution_count": 39,
   "metadata": {},
   "outputs": [
    {
     "name": "stdout",
     "output_type": "stream",
     "text": [
      "[0. 0. 0. 0. 0. 0. 0. 0. 0. 0.] 0x7fdb90130df0\n"
     ]
    }
   ],
   "source": [
    "array2 = array1[:]\n",
    "print(array2, hex(id(array2)))"
   ]
  },
  {
   "cell_type": "markdown",
   "source": [
    "The view has a base array."
   ],
   "metadata": {
    "collapsed": false
   }
  },
  {
   "cell_type": "code",
   "execution_count": 40,
   "metadata": {},
   "outputs": [
    {
     "data": {
      "text/plain": [
       "'0x7fdb90035300'"
      ]
     },
     "execution_count": 40,
     "metadata": {},
     "output_type": "execute_result"
    }
   ],
   "source": [
    "hex(id(array2.base))"
   ]
  },
  {
   "cell_type": "markdown",
   "source": [
    "The two objects share memory."
   ],
   "metadata": {
    "collapsed": false
   }
  },
  {
   "cell_type": "code",
   "execution_count": 41,
   "metadata": {},
   "outputs": [
    {
     "data": {
      "text/plain": [
       "True"
      ]
     },
     "execution_count": 41,
     "metadata": {},
     "output_type": "execute_result"
    }
   ],
   "source": [
    "numpy.shares_memory(array1, array2)"
   ]
  },
  {
   "cell_type": "markdown",
   "source": [
    "Consequently, modifying one modifies the other."
   ],
   "metadata": {
    "collapsed": false
   }
  },
  {
   "cell_type": "code",
   "execution_count": 42,
   "metadata": {},
   "outputs": [
    {
     "name": "stdout",
     "output_type": "stream",
     "text": [
      "[7. 0. 0. 0. 0. 0. 0. 0. 0. 0.] [7. 0. 0. 0. 0. 0. 0. 0. 0. 0.]\n"
     ]
    }
   ],
   "source": [
    "array1[0] = 7\n",
    "print(array1, array2)"
   ]
  },
  {
   "cell_type": "markdown",
   "metadata": {},
   "source": [
    "#### Does retrieving the internal allocatable array returns a view of it?"
   ]
  },
  {
   "cell_type": "markdown",
   "source": [
    "Each time the array is retrieved, a new object is created, it could be a view."
   ],
   "metadata": {
    "collapsed": false
   }
  },
  {
   "cell_type": "code",
   "execution_count": 43,
   "metadata": {},
   "outputs": [
    {
     "name": "stdout",
     "output_type": "stream",
     "text": [
      "[3. 3. 3.] 0x7fdb90047c60\n"
     ]
    }
   ],
   "source": [
    "ma1 = my_package.my_module.my_array\n",
    "print(ma1, hex(id(ma1)))"
   ]
  },
  {
   "cell_type": "code",
   "execution_count": 44,
   "metadata": {},
   "outputs": [
    {
     "name": "stdout",
     "output_type": "stream",
     "text": [
      "[3. 3. 3.] 0x7fdb90047ee0\n"
     ]
    }
   ],
   "source": [
    "ma2 = my_package.my_module.my_array\n",
    "print(ma2, hex(id(ma2)))"
   ]
  },
  {
   "cell_type": "markdown",
   "metadata": {},
   "source": [
    "#### Do they own their own memory?"
   ]
  },
  {
   "cell_type": "markdown",
   "source": [
    "Neither is the base for the other. So neither is a view of the other."
   ],
   "metadata": {
    "collapsed": false
   }
  },
  {
   "cell_type": "code",
   "execution_count": 45,
   "metadata": {},
   "outputs": [
    {
     "data": {
      "text/plain": [
       "True"
      ]
     },
     "execution_count": 45,
     "metadata": {},
     "output_type": "execute_result"
    }
   ],
   "source": [
    "(ma1.base is None) and (ma2.base is None)"
   ]
  },
  {
   "cell_type": "markdown",
   "source": [
    "Yet, they share memory."
   ],
   "metadata": {
    "collapsed": false
   }
  },
  {
   "cell_type": "code",
   "execution_count": 46,
   "metadata": {},
   "outputs": [
    {
     "data": {
      "text/plain": [
       "True"
      ]
     },
     "execution_count": 46,
     "metadata": {},
     "output_type": "execute_result"
    }
   ],
   "source": [
    "numpy.shares_memory(ma1, ma2)"
   ]
  },
  {
   "cell_type": "markdown",
   "source": [
    "In fact, they point to the same data-area storing the array contents."
   ],
   "metadata": {
    "collapsed": false
   }
  },
  {
   "cell_type": "code",
   "execution_count": 47,
   "metadata": {},
   "outputs": [
    {
     "data": {
      "text/plain": [
       "('0x55d18c4d5410', '0x55d18c4d5410')"
      ]
     },
     "execution_count": 47,
     "metadata": {},
     "output_type": "execute_result"
    }
   ],
   "source": [
    "hex(ma1.__array_interface__['data'][0]), hex(ma2.__array_interface__['data'][0])"
   ]
  },
  {
   "cell_type": "markdown",
   "metadata": {},
   "source": [
    "#### Behaves like a view without being a view?"
   ]
  },
  {
   "cell_type": "markdown",
   "source": [
    "Unsurprisingly, given the facts above, modifying one array modifies all arrays."
   ],
   "metadata": {
    "collapsed": false
   }
  },
  {
   "cell_type": "code",
   "execution_count": 48,
   "metadata": {
    "pycharm": {
     "name": "#%%\n"
    }
   },
   "outputs": [
    {
     "name": "stdout",
     "output_type": "stream",
     "text": [
      "[9. 3. 3.] [9. 3. 3.]\n"
     ]
    }
   ],
   "source": [
    "my_package.my_module.my_array[0] = 9\n",
    "print(ma1, ma2)"
   ]
  }
 ],
 "metadata": {
  "kernelspec": {
   "display_name": "hj-38-nompi",
   "language": "python",
   "name": "hj-38-nompi"
  },
  "language_info": {
   "codemirror_mode": {
    "name": "ipython",
    "version": 3
   },
   "file_extension": ".py",
   "mimetype": "text/x-python",
   "name": "python",
   "nbconvert_exporter": "python",
   "pygments_lexer": "ipython3",
   "version": "3.8.6"
  }
 },
 "nbformat": 4,
 "nbformat_minor": 4
}